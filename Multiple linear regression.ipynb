{
 "cells": [
  {
   "cell_type": "markdown",
   "source": [
    "Multiple linear regression : one output row vs multiple input row\n",
    "hypothesis : y_hat = m1x1+m2x2+m3x3+...+mnxn+b"
   ],
   "metadata": {
    "collapsed": false,
    "pycharm": {
     "name": "#%% md\n"
    }
   }
  },
  {
   "cell_type": "code",
   "execution_count": 1,
   "outputs": [
    {
     "data": {
      "text/plain": "     sl_no gender  ssc_p    ssc_b  hsc_p    hsc_b     hsc_s  degree_p  \\\n0        1      M  67.00   Others  91.00   Others  Commerce     58.00   \n1        2      M  79.33  Central  78.33   Others   Science     77.48   \n2        3      M  65.00  Central  68.00  Central      Arts     64.00   \n3        4      M  56.00  Central  52.00  Central   Science     52.00   \n4        5      M  85.80  Central  73.60  Central  Commerce     73.30   \n..     ...    ...    ...      ...    ...      ...       ...       ...   \n210    211      M  80.60   Others  82.00   Others  Commerce     77.60   \n211    212      M  58.00   Others  60.00   Others   Science     72.00   \n212    213      M  67.00   Others  67.00   Others  Commerce     73.00   \n213    214      F  74.00   Others  66.00   Others  Commerce     58.00   \n214    215      M  62.00  Central  58.00   Others   Science     53.00   \n\n      degree_t workex  etest_p specialisation  mba_p      status    salary  \n0     Sci&Tech     No     55.0         Mkt&HR  58.80      Placed  270000.0  \n1     Sci&Tech    Yes     86.5        Mkt&Fin  66.28      Placed  200000.0  \n2    Comm&Mgmt     No     75.0        Mkt&Fin  57.80      Placed  250000.0  \n3     Sci&Tech     No     66.0         Mkt&HR  59.43  Not Placed       0.0  \n4    Comm&Mgmt     No     96.8        Mkt&Fin  55.50      Placed  425000.0  \n..         ...    ...      ...            ...    ...         ...       ...  \n210  Comm&Mgmt     No     91.0        Mkt&Fin  74.49      Placed  400000.0  \n211   Sci&Tech     No     74.0        Mkt&Fin  53.62      Placed  275000.0  \n212  Comm&Mgmt    Yes     59.0        Mkt&Fin  69.72      Placed  295000.0  \n213  Comm&Mgmt     No     70.0         Mkt&HR  60.23      Placed  204000.0  \n214  Comm&Mgmt     No     89.0         Mkt&HR  60.22  Not Placed       0.0  \n\n[215 rows x 15 columns]",
      "text/html": "<div>\n<style scoped>\n    .dataframe tbody tr th:only-of-type {\n        vertical-align: middle;\n    }\n\n    .dataframe tbody tr th {\n        vertical-align: top;\n    }\n\n    .dataframe thead th {\n        text-align: right;\n    }\n</style>\n<table border=\"1\" class=\"dataframe\">\n  <thead>\n    <tr style=\"text-align: right;\">\n      <th></th>\n      <th>sl_no</th>\n      <th>gender</th>\n      <th>ssc_p</th>\n      <th>ssc_b</th>\n      <th>hsc_p</th>\n      <th>hsc_b</th>\n      <th>hsc_s</th>\n      <th>degree_p</th>\n      <th>degree_t</th>\n      <th>workex</th>\n      <th>etest_p</th>\n      <th>specialisation</th>\n      <th>mba_p</th>\n      <th>status</th>\n      <th>salary</th>\n    </tr>\n  </thead>\n  <tbody>\n    <tr>\n      <th>0</th>\n      <td>1</td>\n      <td>M</td>\n      <td>67.00</td>\n      <td>Others</td>\n      <td>91.00</td>\n      <td>Others</td>\n      <td>Commerce</td>\n      <td>58.00</td>\n      <td>Sci&amp;Tech</td>\n      <td>No</td>\n      <td>55.0</td>\n      <td>Mkt&amp;HR</td>\n      <td>58.80</td>\n      <td>Placed</td>\n      <td>270000.0</td>\n    </tr>\n    <tr>\n      <th>1</th>\n      <td>2</td>\n      <td>M</td>\n      <td>79.33</td>\n      <td>Central</td>\n      <td>78.33</td>\n      <td>Others</td>\n      <td>Science</td>\n      <td>77.48</td>\n      <td>Sci&amp;Tech</td>\n      <td>Yes</td>\n      <td>86.5</td>\n      <td>Mkt&amp;Fin</td>\n      <td>66.28</td>\n      <td>Placed</td>\n      <td>200000.0</td>\n    </tr>\n    <tr>\n      <th>2</th>\n      <td>3</td>\n      <td>M</td>\n      <td>65.00</td>\n      <td>Central</td>\n      <td>68.00</td>\n      <td>Central</td>\n      <td>Arts</td>\n      <td>64.00</td>\n      <td>Comm&amp;Mgmt</td>\n      <td>No</td>\n      <td>75.0</td>\n      <td>Mkt&amp;Fin</td>\n      <td>57.80</td>\n      <td>Placed</td>\n      <td>250000.0</td>\n    </tr>\n    <tr>\n      <th>3</th>\n      <td>4</td>\n      <td>M</td>\n      <td>56.00</td>\n      <td>Central</td>\n      <td>52.00</td>\n      <td>Central</td>\n      <td>Science</td>\n      <td>52.00</td>\n      <td>Sci&amp;Tech</td>\n      <td>No</td>\n      <td>66.0</td>\n      <td>Mkt&amp;HR</td>\n      <td>59.43</td>\n      <td>Not Placed</td>\n      <td>0.0</td>\n    </tr>\n    <tr>\n      <th>4</th>\n      <td>5</td>\n      <td>M</td>\n      <td>85.80</td>\n      <td>Central</td>\n      <td>73.60</td>\n      <td>Central</td>\n      <td>Commerce</td>\n      <td>73.30</td>\n      <td>Comm&amp;Mgmt</td>\n      <td>No</td>\n      <td>96.8</td>\n      <td>Mkt&amp;Fin</td>\n      <td>55.50</td>\n      <td>Placed</td>\n      <td>425000.0</td>\n    </tr>\n    <tr>\n      <th>...</th>\n      <td>...</td>\n      <td>...</td>\n      <td>...</td>\n      <td>...</td>\n      <td>...</td>\n      <td>...</td>\n      <td>...</td>\n      <td>...</td>\n      <td>...</td>\n      <td>...</td>\n      <td>...</td>\n      <td>...</td>\n      <td>...</td>\n      <td>...</td>\n      <td>...</td>\n    </tr>\n    <tr>\n      <th>210</th>\n      <td>211</td>\n      <td>M</td>\n      <td>80.60</td>\n      <td>Others</td>\n      <td>82.00</td>\n      <td>Others</td>\n      <td>Commerce</td>\n      <td>77.60</td>\n      <td>Comm&amp;Mgmt</td>\n      <td>No</td>\n      <td>91.0</td>\n      <td>Mkt&amp;Fin</td>\n      <td>74.49</td>\n      <td>Placed</td>\n      <td>400000.0</td>\n    </tr>\n    <tr>\n      <th>211</th>\n      <td>212</td>\n      <td>M</td>\n      <td>58.00</td>\n      <td>Others</td>\n      <td>60.00</td>\n      <td>Others</td>\n      <td>Science</td>\n      <td>72.00</td>\n      <td>Sci&amp;Tech</td>\n      <td>No</td>\n      <td>74.0</td>\n      <td>Mkt&amp;Fin</td>\n      <td>53.62</td>\n      <td>Placed</td>\n      <td>275000.0</td>\n    </tr>\n    <tr>\n      <th>212</th>\n      <td>213</td>\n      <td>M</td>\n      <td>67.00</td>\n      <td>Others</td>\n      <td>67.00</td>\n      <td>Others</td>\n      <td>Commerce</td>\n      <td>73.00</td>\n      <td>Comm&amp;Mgmt</td>\n      <td>Yes</td>\n      <td>59.0</td>\n      <td>Mkt&amp;Fin</td>\n      <td>69.72</td>\n      <td>Placed</td>\n      <td>295000.0</td>\n    </tr>\n    <tr>\n      <th>213</th>\n      <td>214</td>\n      <td>F</td>\n      <td>74.00</td>\n      <td>Others</td>\n      <td>66.00</td>\n      <td>Others</td>\n      <td>Commerce</td>\n      <td>58.00</td>\n      <td>Comm&amp;Mgmt</td>\n      <td>No</td>\n      <td>70.0</td>\n      <td>Mkt&amp;HR</td>\n      <td>60.23</td>\n      <td>Placed</td>\n      <td>204000.0</td>\n    </tr>\n    <tr>\n      <th>214</th>\n      <td>215</td>\n      <td>M</td>\n      <td>62.00</td>\n      <td>Central</td>\n      <td>58.00</td>\n      <td>Others</td>\n      <td>Science</td>\n      <td>53.00</td>\n      <td>Comm&amp;Mgmt</td>\n      <td>No</td>\n      <td>89.0</td>\n      <td>Mkt&amp;HR</td>\n      <td>60.22</td>\n      <td>Not Placed</td>\n      <td>0.0</td>\n    </tr>\n  </tbody>\n</table>\n<p>215 rows × 15 columns</p>\n</div>"
     },
     "execution_count": 1,
     "metadata": {},
     "output_type": "execute_result"
    }
   ],
   "source": [
    "import matplotlib.pyplot as plt\n",
    "import pandas as pd\n",
    "dataset = pd.read_csv('placement_data_MLR.csv')\n",
    "dataset.salary = dataset.salary.fillna(0)\n",
    "dataset"
   ],
   "metadata": {
    "collapsed": false,
    "pycharm": {
     "name": "#%%\n"
    }
   }
  },
  {
   "cell_type": "markdown",
   "source": [
    "Changed default string entries into integer encoding, beacause there is NAN in the salary column of the dataset for those students who are not placed. Our model will not be able to configure that NAN type of data for prediction. So, we convert such type of data into some integer encoding. Like salary == salary for those students who are placed, but salary = 0 for those students who are not placed. Similary we replaced work experience from default 'Yes' 'No' to (1,0)."
   ],
   "metadata": {
    "collapsed": false,
    "pycharm": {
     "name": "#%% md\n"
    }
   }
  },
  {
   "cell_type": "code",
   "execution_count": 2,
   "outputs": [
    {
     "data": {
      "text/plain": "     sl_no gender  ssc_p    ssc_b  hsc_p    hsc_b     hsc_s  degree_p  \\\n0        1      M  67.00   Others  91.00   Others  Commerce     58.00   \n1        2      M  79.33  Central  78.33   Others   Science     77.48   \n2        3      M  65.00  Central  68.00  Central      Arts     64.00   \n3        4      M  56.00  Central  52.00  Central   Science     52.00   \n4        5      M  85.80  Central  73.60  Central  Commerce     73.30   \n..     ...    ...    ...      ...    ...      ...       ...       ...   \n210    211      M  80.60   Others  82.00   Others  Commerce     77.60   \n211    212      M  58.00   Others  60.00   Others   Science     72.00   \n212    213      M  67.00   Others  67.00   Others  Commerce     73.00   \n213    214      F  74.00   Others  66.00   Others  Commerce     58.00   \n214    215      M  62.00  Central  58.00   Others   Science     53.00   \n\n      degree_t  workex  etest_p specialisation  mba_p      status    salary  \n0     Sci&Tech       0     55.0         Mkt&HR  58.80      Placed  270000.0  \n1     Sci&Tech       1     86.5        Mkt&Fin  66.28      Placed  200000.0  \n2    Comm&Mgmt       0     75.0        Mkt&Fin  57.80      Placed  250000.0  \n3     Sci&Tech       0     66.0         Mkt&HR  59.43  Not Placed       0.0  \n4    Comm&Mgmt       0     96.8        Mkt&Fin  55.50      Placed  425000.0  \n..         ...     ...      ...            ...    ...         ...       ...  \n210  Comm&Mgmt       0     91.0        Mkt&Fin  74.49      Placed  400000.0  \n211   Sci&Tech       0     74.0        Mkt&Fin  53.62      Placed  275000.0  \n212  Comm&Mgmt       1     59.0        Mkt&Fin  69.72      Placed  295000.0  \n213  Comm&Mgmt       0     70.0         Mkt&HR  60.23      Placed  204000.0  \n214  Comm&Mgmt       0     89.0         Mkt&HR  60.22  Not Placed       0.0  \n\n[215 rows x 15 columns]",
      "text/html": "<div>\n<style scoped>\n    .dataframe tbody tr th:only-of-type {\n        vertical-align: middle;\n    }\n\n    .dataframe tbody tr th {\n        vertical-align: top;\n    }\n\n    .dataframe thead th {\n        text-align: right;\n    }\n</style>\n<table border=\"1\" class=\"dataframe\">\n  <thead>\n    <tr style=\"text-align: right;\">\n      <th></th>\n      <th>sl_no</th>\n      <th>gender</th>\n      <th>ssc_p</th>\n      <th>ssc_b</th>\n      <th>hsc_p</th>\n      <th>hsc_b</th>\n      <th>hsc_s</th>\n      <th>degree_p</th>\n      <th>degree_t</th>\n      <th>workex</th>\n      <th>etest_p</th>\n      <th>specialisation</th>\n      <th>mba_p</th>\n      <th>status</th>\n      <th>salary</th>\n    </tr>\n  </thead>\n  <tbody>\n    <tr>\n      <th>0</th>\n      <td>1</td>\n      <td>M</td>\n      <td>67.00</td>\n      <td>Others</td>\n      <td>91.00</td>\n      <td>Others</td>\n      <td>Commerce</td>\n      <td>58.00</td>\n      <td>Sci&amp;Tech</td>\n      <td>0</td>\n      <td>55.0</td>\n      <td>Mkt&amp;HR</td>\n      <td>58.80</td>\n      <td>Placed</td>\n      <td>270000.0</td>\n    </tr>\n    <tr>\n      <th>1</th>\n      <td>2</td>\n      <td>M</td>\n      <td>79.33</td>\n      <td>Central</td>\n      <td>78.33</td>\n      <td>Others</td>\n      <td>Science</td>\n      <td>77.48</td>\n      <td>Sci&amp;Tech</td>\n      <td>1</td>\n      <td>86.5</td>\n      <td>Mkt&amp;Fin</td>\n      <td>66.28</td>\n      <td>Placed</td>\n      <td>200000.0</td>\n    </tr>\n    <tr>\n      <th>2</th>\n      <td>3</td>\n      <td>M</td>\n      <td>65.00</td>\n      <td>Central</td>\n      <td>68.00</td>\n      <td>Central</td>\n      <td>Arts</td>\n      <td>64.00</td>\n      <td>Comm&amp;Mgmt</td>\n      <td>0</td>\n      <td>75.0</td>\n      <td>Mkt&amp;Fin</td>\n      <td>57.80</td>\n      <td>Placed</td>\n      <td>250000.0</td>\n    </tr>\n    <tr>\n      <th>3</th>\n      <td>4</td>\n      <td>M</td>\n      <td>56.00</td>\n      <td>Central</td>\n      <td>52.00</td>\n      <td>Central</td>\n      <td>Science</td>\n      <td>52.00</td>\n      <td>Sci&amp;Tech</td>\n      <td>0</td>\n      <td>66.0</td>\n      <td>Mkt&amp;HR</td>\n      <td>59.43</td>\n      <td>Not Placed</td>\n      <td>0.0</td>\n    </tr>\n    <tr>\n      <th>4</th>\n      <td>5</td>\n      <td>M</td>\n      <td>85.80</td>\n      <td>Central</td>\n      <td>73.60</td>\n      <td>Central</td>\n      <td>Commerce</td>\n      <td>73.30</td>\n      <td>Comm&amp;Mgmt</td>\n      <td>0</td>\n      <td>96.8</td>\n      <td>Mkt&amp;Fin</td>\n      <td>55.50</td>\n      <td>Placed</td>\n      <td>425000.0</td>\n    </tr>\n    <tr>\n      <th>...</th>\n      <td>...</td>\n      <td>...</td>\n      <td>...</td>\n      <td>...</td>\n      <td>...</td>\n      <td>...</td>\n      <td>...</td>\n      <td>...</td>\n      <td>...</td>\n      <td>...</td>\n      <td>...</td>\n      <td>...</td>\n      <td>...</td>\n      <td>...</td>\n      <td>...</td>\n    </tr>\n    <tr>\n      <th>210</th>\n      <td>211</td>\n      <td>M</td>\n      <td>80.60</td>\n      <td>Others</td>\n      <td>82.00</td>\n      <td>Others</td>\n      <td>Commerce</td>\n      <td>77.60</td>\n      <td>Comm&amp;Mgmt</td>\n      <td>0</td>\n      <td>91.0</td>\n      <td>Mkt&amp;Fin</td>\n      <td>74.49</td>\n      <td>Placed</td>\n      <td>400000.0</td>\n    </tr>\n    <tr>\n      <th>211</th>\n      <td>212</td>\n      <td>M</td>\n      <td>58.00</td>\n      <td>Others</td>\n      <td>60.00</td>\n      <td>Others</td>\n      <td>Science</td>\n      <td>72.00</td>\n      <td>Sci&amp;Tech</td>\n      <td>0</td>\n      <td>74.0</td>\n      <td>Mkt&amp;Fin</td>\n      <td>53.62</td>\n      <td>Placed</td>\n      <td>275000.0</td>\n    </tr>\n    <tr>\n      <th>212</th>\n      <td>213</td>\n      <td>M</td>\n      <td>67.00</td>\n      <td>Others</td>\n      <td>67.00</td>\n      <td>Others</td>\n      <td>Commerce</td>\n      <td>73.00</td>\n      <td>Comm&amp;Mgmt</td>\n      <td>1</td>\n      <td>59.0</td>\n      <td>Mkt&amp;Fin</td>\n      <td>69.72</td>\n      <td>Placed</td>\n      <td>295000.0</td>\n    </tr>\n    <tr>\n      <th>213</th>\n      <td>214</td>\n      <td>F</td>\n      <td>74.00</td>\n      <td>Others</td>\n      <td>66.00</td>\n      <td>Others</td>\n      <td>Commerce</td>\n      <td>58.00</td>\n      <td>Comm&amp;Mgmt</td>\n      <td>0</td>\n      <td>70.0</td>\n      <td>Mkt&amp;HR</td>\n      <td>60.23</td>\n      <td>Placed</td>\n      <td>204000.0</td>\n    </tr>\n    <tr>\n      <th>214</th>\n      <td>215</td>\n      <td>M</td>\n      <td>62.00</td>\n      <td>Central</td>\n      <td>58.00</td>\n      <td>Others</td>\n      <td>Science</td>\n      <td>53.00</td>\n      <td>Comm&amp;Mgmt</td>\n      <td>0</td>\n      <td>89.0</td>\n      <td>Mkt&amp;HR</td>\n      <td>60.22</td>\n      <td>Not Placed</td>\n      <td>0.0</td>\n    </tr>\n  </tbody>\n</table>\n<p>215 rows × 15 columns</p>\n</div>"
     },
     "execution_count": 2,
     "metadata": {},
     "output_type": "execute_result"
    }
   ],
   "source": [
    "dataset['workex'].value_counts() # returns the scenario of what kind of dataset we have in workex column (run the code separately to see the results)\n",
    "encoded_workex = {'workex':{'Yes':1,'No':0}}\n",
    "dataset = dataset.replace(encoded_workex)\n",
    "dataset"
   ],
   "metadata": {
    "collapsed": false,
    "pycharm": {
     "name": "#%%\n"
    }
   }
  },
  {
   "cell_type": "code",
   "execution_count": 3,
   "outputs": [
    {
     "data": {
      "text/plain": "     sl_no gender  ssc_p    ssc_b  hsc_p    hsc_b     hsc_s  degree_p  \\\n0        1      M  67.00   Others  91.00   Others  Commerce     58.00   \n1        2      M  79.33  Central  78.33   Others   Science     77.48   \n2        3      M  65.00  Central  68.00  Central      Arts     64.00   \n3        4      M  56.00  Central  52.00  Central   Science     52.00   \n4        5      M  85.80  Central  73.60  Central  Commerce     73.30   \n..     ...    ...    ...      ...    ...      ...       ...       ...   \n210    211      M  80.60   Others  82.00   Others  Commerce     77.60   \n211    212      M  58.00   Others  60.00   Others   Science     72.00   \n212    213      M  67.00   Others  67.00   Others  Commerce     73.00   \n213    214      F  74.00   Others  66.00   Others  Commerce     58.00   \n214    215      M  62.00  Central  58.00   Others   Science     53.00   \n\n      degree_t  workex  etest_p specialisation  mba_p  status    salary  \n0     Sci&Tech       0     55.0         Mkt&HR  58.80       1  270000.0  \n1     Sci&Tech       1     86.5        Mkt&Fin  66.28       1  200000.0  \n2    Comm&Mgmt       0     75.0        Mkt&Fin  57.80       1  250000.0  \n3     Sci&Tech       0     66.0         Mkt&HR  59.43       0       0.0  \n4    Comm&Mgmt       0     96.8        Mkt&Fin  55.50       1  425000.0  \n..         ...     ...      ...            ...    ...     ...       ...  \n210  Comm&Mgmt       0     91.0        Mkt&Fin  74.49       1  400000.0  \n211   Sci&Tech       0     74.0        Mkt&Fin  53.62       1  275000.0  \n212  Comm&Mgmt       1     59.0        Mkt&Fin  69.72       1  295000.0  \n213  Comm&Mgmt       0     70.0         Mkt&HR  60.23       1  204000.0  \n214  Comm&Mgmt       0     89.0         Mkt&HR  60.22       0       0.0  \n\n[215 rows x 15 columns]",
      "text/html": "<div>\n<style scoped>\n    .dataframe tbody tr th:only-of-type {\n        vertical-align: middle;\n    }\n\n    .dataframe tbody tr th {\n        vertical-align: top;\n    }\n\n    .dataframe thead th {\n        text-align: right;\n    }\n</style>\n<table border=\"1\" class=\"dataframe\">\n  <thead>\n    <tr style=\"text-align: right;\">\n      <th></th>\n      <th>sl_no</th>\n      <th>gender</th>\n      <th>ssc_p</th>\n      <th>ssc_b</th>\n      <th>hsc_p</th>\n      <th>hsc_b</th>\n      <th>hsc_s</th>\n      <th>degree_p</th>\n      <th>degree_t</th>\n      <th>workex</th>\n      <th>etest_p</th>\n      <th>specialisation</th>\n      <th>mba_p</th>\n      <th>status</th>\n      <th>salary</th>\n    </tr>\n  </thead>\n  <tbody>\n    <tr>\n      <th>0</th>\n      <td>1</td>\n      <td>M</td>\n      <td>67.00</td>\n      <td>Others</td>\n      <td>91.00</td>\n      <td>Others</td>\n      <td>Commerce</td>\n      <td>58.00</td>\n      <td>Sci&amp;Tech</td>\n      <td>0</td>\n      <td>55.0</td>\n      <td>Mkt&amp;HR</td>\n      <td>58.80</td>\n      <td>1</td>\n      <td>270000.0</td>\n    </tr>\n    <tr>\n      <th>1</th>\n      <td>2</td>\n      <td>M</td>\n      <td>79.33</td>\n      <td>Central</td>\n      <td>78.33</td>\n      <td>Others</td>\n      <td>Science</td>\n      <td>77.48</td>\n      <td>Sci&amp;Tech</td>\n      <td>1</td>\n      <td>86.5</td>\n      <td>Mkt&amp;Fin</td>\n      <td>66.28</td>\n      <td>1</td>\n      <td>200000.0</td>\n    </tr>\n    <tr>\n      <th>2</th>\n      <td>3</td>\n      <td>M</td>\n      <td>65.00</td>\n      <td>Central</td>\n      <td>68.00</td>\n      <td>Central</td>\n      <td>Arts</td>\n      <td>64.00</td>\n      <td>Comm&amp;Mgmt</td>\n      <td>0</td>\n      <td>75.0</td>\n      <td>Mkt&amp;Fin</td>\n      <td>57.80</td>\n      <td>1</td>\n      <td>250000.0</td>\n    </tr>\n    <tr>\n      <th>3</th>\n      <td>4</td>\n      <td>M</td>\n      <td>56.00</td>\n      <td>Central</td>\n      <td>52.00</td>\n      <td>Central</td>\n      <td>Science</td>\n      <td>52.00</td>\n      <td>Sci&amp;Tech</td>\n      <td>0</td>\n      <td>66.0</td>\n      <td>Mkt&amp;HR</td>\n      <td>59.43</td>\n      <td>0</td>\n      <td>0.0</td>\n    </tr>\n    <tr>\n      <th>4</th>\n      <td>5</td>\n      <td>M</td>\n      <td>85.80</td>\n      <td>Central</td>\n      <td>73.60</td>\n      <td>Central</td>\n      <td>Commerce</td>\n      <td>73.30</td>\n      <td>Comm&amp;Mgmt</td>\n      <td>0</td>\n      <td>96.8</td>\n      <td>Mkt&amp;Fin</td>\n      <td>55.50</td>\n      <td>1</td>\n      <td>425000.0</td>\n    </tr>\n    <tr>\n      <th>...</th>\n      <td>...</td>\n      <td>...</td>\n      <td>...</td>\n      <td>...</td>\n      <td>...</td>\n      <td>...</td>\n      <td>...</td>\n      <td>...</td>\n      <td>...</td>\n      <td>...</td>\n      <td>...</td>\n      <td>...</td>\n      <td>...</td>\n      <td>...</td>\n      <td>...</td>\n    </tr>\n    <tr>\n      <th>210</th>\n      <td>211</td>\n      <td>M</td>\n      <td>80.60</td>\n      <td>Others</td>\n      <td>82.00</td>\n      <td>Others</td>\n      <td>Commerce</td>\n      <td>77.60</td>\n      <td>Comm&amp;Mgmt</td>\n      <td>0</td>\n      <td>91.0</td>\n      <td>Mkt&amp;Fin</td>\n      <td>74.49</td>\n      <td>1</td>\n      <td>400000.0</td>\n    </tr>\n    <tr>\n      <th>211</th>\n      <td>212</td>\n      <td>M</td>\n      <td>58.00</td>\n      <td>Others</td>\n      <td>60.00</td>\n      <td>Others</td>\n      <td>Science</td>\n      <td>72.00</td>\n      <td>Sci&amp;Tech</td>\n      <td>0</td>\n      <td>74.0</td>\n      <td>Mkt&amp;Fin</td>\n      <td>53.62</td>\n      <td>1</td>\n      <td>275000.0</td>\n    </tr>\n    <tr>\n      <th>212</th>\n      <td>213</td>\n      <td>M</td>\n      <td>67.00</td>\n      <td>Others</td>\n      <td>67.00</td>\n      <td>Others</td>\n      <td>Commerce</td>\n      <td>73.00</td>\n      <td>Comm&amp;Mgmt</td>\n      <td>1</td>\n      <td>59.0</td>\n      <td>Mkt&amp;Fin</td>\n      <td>69.72</td>\n      <td>1</td>\n      <td>295000.0</td>\n    </tr>\n    <tr>\n      <th>213</th>\n      <td>214</td>\n      <td>F</td>\n      <td>74.00</td>\n      <td>Others</td>\n      <td>66.00</td>\n      <td>Others</td>\n      <td>Commerce</td>\n      <td>58.00</td>\n      <td>Comm&amp;Mgmt</td>\n      <td>0</td>\n      <td>70.0</td>\n      <td>Mkt&amp;HR</td>\n      <td>60.23</td>\n      <td>1</td>\n      <td>204000.0</td>\n    </tr>\n    <tr>\n      <th>214</th>\n      <td>215</td>\n      <td>M</td>\n      <td>62.00</td>\n      <td>Central</td>\n      <td>58.00</td>\n      <td>Others</td>\n      <td>Science</td>\n      <td>53.00</td>\n      <td>Comm&amp;Mgmt</td>\n      <td>0</td>\n      <td>89.0</td>\n      <td>Mkt&amp;HR</td>\n      <td>60.22</td>\n      <td>0</td>\n      <td>0.0</td>\n    </tr>\n  </tbody>\n</table>\n<p>215 rows × 15 columns</p>\n</div>"
     },
     "execution_count": 3,
     "metadata": {},
     "output_type": "execute_result"
    }
   ],
   "source": [
    "dataset['status'].value_counts()\n",
    "encoded_degree_t = {'status':{'Placed':1,'Not Placed':0}}\n",
    "dataset = dataset.replace(encoded_degree_t)\n",
    "dataset"
   ],
   "metadata": {
    "collapsed": false,
    "pycharm": {
     "name": "#%%\n"
    }
   }
  },
  {
   "cell_type": "code",
   "execution_count": 4,
   "outputs": [
    {
     "data": {
      "text/plain": "     sl_no  ssc_p  hsc_p  degree_p  workex  etest_p  mba_p  status    salary\n0        1  67.00  91.00     58.00       0     55.0  58.80       1  270000.0\n1        2  79.33  78.33     77.48       1     86.5  66.28       1  200000.0\n2        3  65.00  68.00     64.00       0     75.0  57.80       1  250000.0\n3        4  56.00  52.00     52.00       0     66.0  59.43       0       0.0\n4        5  85.80  73.60     73.30       0     96.8  55.50       1  425000.0\n..     ...    ...    ...       ...     ...      ...    ...     ...       ...\n210    211  80.60  82.00     77.60       0     91.0  74.49       1  400000.0\n211    212  58.00  60.00     72.00       0     74.0  53.62       1  275000.0\n212    213  67.00  67.00     73.00       1     59.0  69.72       1  295000.0\n213    214  74.00  66.00     58.00       0     70.0  60.23       1  204000.0\n214    215  62.00  58.00     53.00       0     89.0  60.22       0       0.0\n\n[215 rows x 9 columns]",
      "text/html": "<div>\n<style scoped>\n    .dataframe tbody tr th:only-of-type {\n        vertical-align: middle;\n    }\n\n    .dataframe tbody tr th {\n        vertical-align: top;\n    }\n\n    .dataframe thead th {\n        text-align: right;\n    }\n</style>\n<table border=\"1\" class=\"dataframe\">\n  <thead>\n    <tr style=\"text-align: right;\">\n      <th></th>\n      <th>sl_no</th>\n      <th>ssc_p</th>\n      <th>hsc_p</th>\n      <th>degree_p</th>\n      <th>workex</th>\n      <th>etest_p</th>\n      <th>mba_p</th>\n      <th>status</th>\n      <th>salary</th>\n    </tr>\n  </thead>\n  <tbody>\n    <tr>\n      <th>0</th>\n      <td>1</td>\n      <td>67.00</td>\n      <td>91.00</td>\n      <td>58.00</td>\n      <td>0</td>\n      <td>55.0</td>\n      <td>58.80</td>\n      <td>1</td>\n      <td>270000.0</td>\n    </tr>\n    <tr>\n      <th>1</th>\n      <td>2</td>\n      <td>79.33</td>\n      <td>78.33</td>\n      <td>77.48</td>\n      <td>1</td>\n      <td>86.5</td>\n      <td>66.28</td>\n      <td>1</td>\n      <td>200000.0</td>\n    </tr>\n    <tr>\n      <th>2</th>\n      <td>3</td>\n      <td>65.00</td>\n      <td>68.00</td>\n      <td>64.00</td>\n      <td>0</td>\n      <td>75.0</td>\n      <td>57.80</td>\n      <td>1</td>\n      <td>250000.0</td>\n    </tr>\n    <tr>\n      <th>3</th>\n      <td>4</td>\n      <td>56.00</td>\n      <td>52.00</td>\n      <td>52.00</td>\n      <td>0</td>\n      <td>66.0</td>\n      <td>59.43</td>\n      <td>0</td>\n      <td>0.0</td>\n    </tr>\n    <tr>\n      <th>4</th>\n      <td>5</td>\n      <td>85.80</td>\n      <td>73.60</td>\n      <td>73.30</td>\n      <td>0</td>\n      <td>96.8</td>\n      <td>55.50</td>\n      <td>1</td>\n      <td>425000.0</td>\n    </tr>\n    <tr>\n      <th>...</th>\n      <td>...</td>\n      <td>...</td>\n      <td>...</td>\n      <td>...</td>\n      <td>...</td>\n      <td>...</td>\n      <td>...</td>\n      <td>...</td>\n      <td>...</td>\n    </tr>\n    <tr>\n      <th>210</th>\n      <td>211</td>\n      <td>80.60</td>\n      <td>82.00</td>\n      <td>77.60</td>\n      <td>0</td>\n      <td>91.0</td>\n      <td>74.49</td>\n      <td>1</td>\n      <td>400000.0</td>\n    </tr>\n    <tr>\n      <th>211</th>\n      <td>212</td>\n      <td>58.00</td>\n      <td>60.00</td>\n      <td>72.00</td>\n      <td>0</td>\n      <td>74.0</td>\n      <td>53.62</td>\n      <td>1</td>\n      <td>275000.0</td>\n    </tr>\n    <tr>\n      <th>212</th>\n      <td>213</td>\n      <td>67.00</td>\n      <td>67.00</td>\n      <td>73.00</td>\n      <td>1</td>\n      <td>59.0</td>\n      <td>69.72</td>\n      <td>1</td>\n      <td>295000.0</td>\n    </tr>\n    <tr>\n      <th>213</th>\n      <td>214</td>\n      <td>74.00</td>\n      <td>66.00</td>\n      <td>58.00</td>\n      <td>0</td>\n      <td>70.0</td>\n      <td>60.23</td>\n      <td>1</td>\n      <td>204000.0</td>\n    </tr>\n    <tr>\n      <th>214</th>\n      <td>215</td>\n      <td>62.00</td>\n      <td>58.00</td>\n      <td>53.00</td>\n      <td>0</td>\n      <td>89.0</td>\n      <td>60.22</td>\n      <td>0</td>\n      <td>0.0</td>\n    </tr>\n  </tbody>\n</table>\n<p>215 rows × 9 columns</p>\n</div>"
     },
     "execution_count": 4,
     "metadata": {},
     "output_type": "execute_result"
    }
   ],
   "source": [
    "# dropping some columns which seems redundant for our prediction\n",
    "dataset = dataset.drop(['hsc_b','ssc_b','gender','hsc_s','degree_t','specialisation'],axis=1) # dropping the columns which seems irrelevant\n",
    "dataset"
   ],
   "metadata": {
    "collapsed": false,
    "pycharm": {
     "name": "#%%\n"
    }
   }
  },
  {
   "cell_type": "code",
   "execution_count": 5,
   "outputs": [],
   "source": [
    "x = dataset.iloc[:,:-1] # all the independent inputs\n",
    "y = dataset.iloc[:,-1] # salary"
   ],
   "metadata": {
    "collapsed": false,
    "pycharm": {
     "name": "#%%\n"
    }
   }
  },
  {
   "cell_type": "code",
   "execution_count": 6,
   "outputs": [
    {
     "data": {
      "text/plain": "array([261106.19858296, 312763.21365664, 307198.79320989,  10861.33267885,\n       323619.5769725 , 275893.61509439, 274459.31263393, 286610.74899105,\n       283507.40666979, -45428.1813024 ,  -7404.63818925, 339196.22779315,\n       247345.01274164, 326415.16804959, 325886.48010141, 309939.98845897,\n       -11200.14582014, 306996.17412297, 277440.18061654, 340297.2604139 ,\n       -12282.0816941 ,   9613.78397459, 290553.14091333, 278758.10866987,\n        31246.6392408 ,  19316.67445185,  10051.88398531,  37321.6000186 ,\n        -8234.13865699,  30307.78674757, 275904.10006339, -16402.53184229,\n       286471.29399698, 326631.85715948, 362262.8685235 , 329122.13190642,\n       358860.16349245, 244356.57615017,  28913.63961803, 288053.57909216,\n         1542.73047185,   7277.68376082, -17924.27055532])"
     },
     "execution_count": 6,
     "metadata": {},
     "output_type": "execute_result"
    }
   ],
   "source": [
    "from sklearn.linear_model import LinearRegression\n",
    "from sklearn.model_selection import train_test_split\n",
    "x_train,x_test,y_train,y_test = train_test_split(x,y,test_size=0.2) # 20% of the data is reserved for testing and rest 80% of the data is used to train the model.\n",
    "MLR = LinearRegression()\n",
    "MLR.fit(x_train,y_train) # trains the model\n",
    "y_pred = MLR.predict(x_test)\n",
    "y_pred"
   ],
   "metadata": {
    "collapsed": false,
    "pycharm": {
     "name": "#%%\n"
    }
   }
  },
  {
   "cell_type": "code",
   "execution_count": 7,
   "outputs": [
    {
     "data": {
      "text/plain": "0.8457667966459432"
     },
     "execution_count": 7,
     "metadata": {},
     "output_type": "execute_result"
    }
   ],
   "source": [
    "from sklearn.metrics import r2_score\n",
    "r2_score = r2_score(y_test,y_pred)\n",
    "r2_score"
   ],
   "metadata": {
    "collapsed": false,
    "pycharm": {
     "name": "#%%\n"
    }
   }
  },
  {
   "cell_type": "code",
   "execution_count": 8,
   "outputs": [
    {
     "data": {
      "text/plain": "    sl_no  ssc_p  hsc_p  degree_p  workex  etest_p  mba_p  status\n10     11   58.0   61.0      60.0       1     62.0  60.85       1",
      "text/html": "<div>\n<style scoped>\n    .dataframe tbody tr th:only-of-type {\n        vertical-align: middle;\n    }\n\n    .dataframe tbody tr th {\n        vertical-align: top;\n    }\n\n    .dataframe thead th {\n        text-align: right;\n    }\n</style>\n<table border=\"1\" class=\"dataframe\">\n  <thead>\n    <tr style=\"text-align: right;\">\n      <th></th>\n      <th>sl_no</th>\n      <th>ssc_p</th>\n      <th>hsc_p</th>\n      <th>degree_p</th>\n      <th>workex</th>\n      <th>etest_p</th>\n      <th>mba_p</th>\n      <th>status</th>\n    </tr>\n  </thead>\n  <tbody>\n    <tr>\n      <th>10</th>\n      <td>11</td>\n      <td>58.0</td>\n      <td>61.0</td>\n      <td>60.0</td>\n      <td>1</td>\n      <td>62.0</td>\n      <td>60.85</td>\n      <td>1</td>\n    </tr>\n  </tbody>\n</table>\n</div>"
     },
     "execution_count": 8,
     "metadata": {},
     "output_type": "execute_result"
    }
   ],
   "source": [
    "x_sample = x_test.iloc[1:2,:]\n",
    "x_sample"
   ],
   "metadata": {
    "collapsed": false,
    "pycharm": {
     "name": "#%%\n"
    }
   }
  },
  {
   "cell_type": "code",
   "execution_count": 9,
   "outputs": [
    {
     "data": {
      "text/plain": "10    260000.0\nName: salary, dtype: float64"
     },
     "execution_count": 9,
     "metadata": {},
     "output_type": "execute_result"
    }
   ],
   "source": [
    "y_sample = y_test.iloc[1:2]\n",
    "y_sample"
   ],
   "metadata": {
    "collapsed": false,
    "pycharm": {
     "name": "#%%\n"
    }
   }
  },
  {
   "cell_type": "code",
   "execution_count": 10,
   "outputs": [
    {
     "data": {
      "text/plain": "array([312763.21365664])"
     },
     "execution_count": 10,
     "metadata": {},
     "output_type": "execute_result"
    }
   ],
   "source": [
    "MLR.predict(x_sample)"
   ],
   "metadata": {
    "collapsed": false,
    "pycharm": {
     "name": "#%%\n"
    }
   }
  }
 ],
 "metadata": {
  "kernelspec": {
   "display_name": "Python 3",
   "language": "python",
   "name": "python3"
  },
  "language_info": {
   "codemirror_mode": {
    "name": "ipython",
    "version": 2
   },
   "file_extension": ".py",
   "mimetype": "text/x-python",
   "name": "python",
   "nbconvert_exporter": "python",
   "pygments_lexer": "ipython2",
   "version": "2.7.6"
  }
 },
 "nbformat": 4,
 "nbformat_minor": 0
}